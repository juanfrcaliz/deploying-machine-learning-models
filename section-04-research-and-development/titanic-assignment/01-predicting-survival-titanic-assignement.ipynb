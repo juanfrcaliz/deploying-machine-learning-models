{
 "cells": [
  {
   "cell_type": "markdown",
   "metadata": {},
   "source": [
    "## Predicting Survival on the Titanic\n",
    "\n",
    "### History\n",
    "Perhaps one of the most infamous shipwrecks in history, the Titanic sank after colliding with an iceberg, killing 1502 out of 2224 people on board. Interestingly, by analysing the probability of survival based on few attributes like gender, age, and social status, we can make very accurate predictions on which passengers would survive. Some groups of people were more likely to survive than others, such as women, children, and the upper-class. Therefore, we can learn about the society priorities and privileges at the time.\n",
    "\n",
    "### Assignment:\n",
    "\n",
    "Build a Machine Learning Pipeline, to engineer the features in the data set and predict who is more likely to Survive the catastrophe.\n",
    "\n",
    "Follow the Jupyter notebook below, and complete the missing bits of code, to achieve each one of the pipeline steps."
   ]
  },
  {
   "cell_type": "code",
   "execution_count": 1,
   "metadata": {},
   "outputs": [],
   "source": [
    "import re\n",
    "\n",
    "# to handle datasets\n",
    "import pandas as pd\n",
    "import numpy as np\n",
    "\n",
    "# for visualization\n",
    "import matplotlib.pyplot as plt\n",
    "\n",
    "# to divide train and test set\n",
    "from sklearn.model_selection import train_test_split\n",
    "\n",
    "# one-hot encoder\n",
    "from sklearn.preprocessing import OneHotEncoder\n",
    "\n",
    "# feature scaling\n",
    "from sklearn.preprocessing import StandardScaler\n",
    "\n",
    "# to build the models\n",
    "from sklearn.linear_model import LogisticRegression\n",
    "\n",
    "# to evaluate the models\n",
    "from sklearn.metrics import accuracy_score, roc_auc_score\n",
    "\n",
    "# to persist the model and the scaler\n",
    "import joblib\n",
    "\n",
    "# to visualise al the columns in the dataframe\n",
    "pd.pandas.set_option('display.max_columns', None)"
   ]
  },
  {
   "cell_type": "markdown",
   "metadata": {},
   "source": [
    "## Prepare the data set"
   ]
  },
  {
   "cell_type": "code",
   "execution_count": 2,
   "metadata": {},
   "outputs": [
    {
     "data": {
      "text/plain": "   pclass  survived                                             name     sex  \\\n0       1         1                    Allen, Miss. Elisabeth Walton  female   \n1       1         1                   Allison, Master. Hudson Trevor    male   \n2       1         0                     Allison, Miss. Helen Loraine  female   \n3       1         0             Allison, Mr. Hudson Joshua Creighton    male   \n4       1         0  Allison, Mrs. Hudson J C (Bessie Waldo Daniels)  female   \n\n      age  sibsp  parch  ticket      fare    cabin embarked boat body  \\\n0      29      0      0   24160  211.3375       B5        S    2    ?   \n1  0.9167      1      2  113781    151.55  C22 C26        S   11    ?   \n2       2      1      2  113781    151.55  C22 C26        S    ?    ?   \n3      30      1      2  113781    151.55  C22 C26        S    ?  135   \n4      25      1      2  113781    151.55  C22 C26        S    ?    ?   \n\n                         home.dest  \n0                     St Louis, MO  \n1  Montreal, PQ / Chesterville, ON  \n2  Montreal, PQ / Chesterville, ON  \n3  Montreal, PQ / Chesterville, ON  \n4  Montreal, PQ / Chesterville, ON  ",
      "text/html": "<div>\n<style scoped>\n    .dataframe tbody tr th:only-of-type {\n        vertical-align: middle;\n    }\n\n    .dataframe tbody tr th {\n        vertical-align: top;\n    }\n\n    .dataframe thead th {\n        text-align: right;\n    }\n</style>\n<table border=\"1\" class=\"dataframe\">\n  <thead>\n    <tr style=\"text-align: right;\">\n      <th></th>\n      <th>pclass</th>\n      <th>survived</th>\n      <th>name</th>\n      <th>sex</th>\n      <th>age</th>\n      <th>sibsp</th>\n      <th>parch</th>\n      <th>ticket</th>\n      <th>fare</th>\n      <th>cabin</th>\n      <th>embarked</th>\n      <th>boat</th>\n      <th>body</th>\n      <th>home.dest</th>\n    </tr>\n  </thead>\n  <tbody>\n    <tr>\n      <th>0</th>\n      <td>1</td>\n      <td>1</td>\n      <td>Allen, Miss. Elisabeth Walton</td>\n      <td>female</td>\n      <td>29</td>\n      <td>0</td>\n      <td>0</td>\n      <td>24160</td>\n      <td>211.3375</td>\n      <td>B5</td>\n      <td>S</td>\n      <td>2</td>\n      <td>?</td>\n      <td>St Louis, MO</td>\n    </tr>\n    <tr>\n      <th>1</th>\n      <td>1</td>\n      <td>1</td>\n      <td>Allison, Master. Hudson Trevor</td>\n      <td>male</td>\n      <td>0.9167</td>\n      <td>1</td>\n      <td>2</td>\n      <td>113781</td>\n      <td>151.55</td>\n      <td>C22 C26</td>\n      <td>S</td>\n      <td>11</td>\n      <td>?</td>\n      <td>Montreal, PQ / Chesterville, ON</td>\n    </tr>\n    <tr>\n      <th>2</th>\n      <td>1</td>\n      <td>0</td>\n      <td>Allison, Miss. Helen Loraine</td>\n      <td>female</td>\n      <td>2</td>\n      <td>1</td>\n      <td>2</td>\n      <td>113781</td>\n      <td>151.55</td>\n      <td>C22 C26</td>\n      <td>S</td>\n      <td>?</td>\n      <td>?</td>\n      <td>Montreal, PQ / Chesterville, ON</td>\n    </tr>\n    <tr>\n      <th>3</th>\n      <td>1</td>\n      <td>0</td>\n      <td>Allison, Mr. Hudson Joshua Creighton</td>\n      <td>male</td>\n      <td>30</td>\n      <td>1</td>\n      <td>2</td>\n      <td>113781</td>\n      <td>151.55</td>\n      <td>C22 C26</td>\n      <td>S</td>\n      <td>?</td>\n      <td>135</td>\n      <td>Montreal, PQ / Chesterville, ON</td>\n    </tr>\n    <tr>\n      <th>4</th>\n      <td>1</td>\n      <td>0</td>\n      <td>Allison, Mrs. Hudson J C (Bessie Waldo Daniels)</td>\n      <td>female</td>\n      <td>25</td>\n      <td>1</td>\n      <td>2</td>\n      <td>113781</td>\n      <td>151.55</td>\n      <td>C22 C26</td>\n      <td>S</td>\n      <td>?</td>\n      <td>?</td>\n      <td>Montreal, PQ / Chesterville, ON</td>\n    </tr>\n  </tbody>\n</table>\n</div>"
     },
     "execution_count": 2,
     "metadata": {},
     "output_type": "execute_result"
    }
   ],
   "source": [
    "# load the data - it is available open source and online\n",
    "\n",
    "data = pd.read_csv('https://www.openml.org/data/get_csv/16826755/phpMYEkMl')\n",
    "\n",
    "# display data\n",
    "data.head()"
   ]
  },
  {
   "cell_type": "code",
   "execution_count": 3,
   "metadata": {},
   "outputs": [],
   "source": [
    "# replace interrogation marks by NaN values\n",
    "\n",
    "data = data.replace('?', np.nan)"
   ]
  },
  {
   "cell_type": "code",
   "execution_count": 4,
   "metadata": {},
   "outputs": [],
   "source": [
    "# retain only the first cabin if more than\n",
    "# 1 are available per passenger\n",
    "\n",
    "def get_first_cabin(row):\n",
    "    try:\n",
    "        return row.split()[0]\n",
    "    except:\n",
    "        return np.nan\n",
    "    \n",
    "data['cabin'] = data['cabin'].apply(get_first_cabin)"
   ]
  },
  {
   "cell_type": "code",
   "execution_count": 5,
   "metadata": {},
   "outputs": [],
   "source": [
    "# extracts the title (Mr, Ms, etc.) from the name variable\n",
    "\n",
    "def get_title(passenger):\n",
    "    line = passenger\n",
    "    if re.search('Mrs', line):\n",
    "        return 'Mrs'\n",
    "    elif re.search('Mr', line):\n",
    "        return 'Mr'\n",
    "    elif re.search('Miss', line):\n",
    "        return 'Miss'\n",
    "    elif re.search('Master', line):\n",
    "        return 'Master'\n",
    "    else:\n",
    "        return 'Other'\n",
    "    \n",
    "data['title'] = data['name'].apply(get_title)"
   ]
  },
  {
   "cell_type": "code",
   "execution_count": 6,
   "metadata": {},
   "outputs": [],
   "source": [
    "# cast numerical variables as floats\n",
    "\n",
    "data['fare'] = data['fare'].astype('float')\n",
    "data['age'] = data['age'].astype('float')"
   ]
  },
  {
   "cell_type": "code",
   "execution_count": 7,
   "metadata": {},
   "outputs": [
    {
     "data": {
      "text/plain": "   pclass  survived     sex      age  sibsp  parch      fare cabin embarked  \\\n0       1         1  female  29.0000      0      0  211.3375    B5        S   \n1       1         1    male   0.9167      1      2  151.5500   C22        S   \n2       1         0  female   2.0000      1      2  151.5500   C22        S   \n3       1         0    male  30.0000      1      2  151.5500   C22        S   \n4       1         0  female  25.0000      1      2  151.5500   C22        S   \n\n    title  \n0    Miss  \n1  Master  \n2    Miss  \n3      Mr  \n4     Mrs  ",
      "text/html": "<div>\n<style scoped>\n    .dataframe tbody tr th:only-of-type {\n        vertical-align: middle;\n    }\n\n    .dataframe tbody tr th {\n        vertical-align: top;\n    }\n\n    .dataframe thead th {\n        text-align: right;\n    }\n</style>\n<table border=\"1\" class=\"dataframe\">\n  <thead>\n    <tr style=\"text-align: right;\">\n      <th></th>\n      <th>pclass</th>\n      <th>survived</th>\n      <th>sex</th>\n      <th>age</th>\n      <th>sibsp</th>\n      <th>parch</th>\n      <th>fare</th>\n      <th>cabin</th>\n      <th>embarked</th>\n      <th>title</th>\n    </tr>\n  </thead>\n  <tbody>\n    <tr>\n      <th>0</th>\n      <td>1</td>\n      <td>1</td>\n      <td>female</td>\n      <td>29.0000</td>\n      <td>0</td>\n      <td>0</td>\n      <td>211.3375</td>\n      <td>B5</td>\n      <td>S</td>\n      <td>Miss</td>\n    </tr>\n    <tr>\n      <th>1</th>\n      <td>1</td>\n      <td>1</td>\n      <td>male</td>\n      <td>0.9167</td>\n      <td>1</td>\n      <td>2</td>\n      <td>151.5500</td>\n      <td>C22</td>\n      <td>S</td>\n      <td>Master</td>\n    </tr>\n    <tr>\n      <th>2</th>\n      <td>1</td>\n      <td>0</td>\n      <td>female</td>\n      <td>2.0000</td>\n      <td>1</td>\n      <td>2</td>\n      <td>151.5500</td>\n      <td>C22</td>\n      <td>S</td>\n      <td>Miss</td>\n    </tr>\n    <tr>\n      <th>3</th>\n      <td>1</td>\n      <td>0</td>\n      <td>male</td>\n      <td>30.0000</td>\n      <td>1</td>\n      <td>2</td>\n      <td>151.5500</td>\n      <td>C22</td>\n      <td>S</td>\n      <td>Mr</td>\n    </tr>\n    <tr>\n      <th>4</th>\n      <td>1</td>\n      <td>0</td>\n      <td>female</td>\n      <td>25.0000</td>\n      <td>1</td>\n      <td>2</td>\n      <td>151.5500</td>\n      <td>C22</td>\n      <td>S</td>\n      <td>Mrs</td>\n    </tr>\n  </tbody>\n</table>\n</div>"
     },
     "execution_count": 7,
     "metadata": {},
     "output_type": "execute_result"
    }
   ],
   "source": [
    "# drop unnecessary variables\n",
    "\n",
    "data.drop(labels=['name','ticket', 'boat', 'body','home.dest'], axis=1, inplace=True)\n",
    "\n",
    "# display data\n",
    "data.head()"
   ]
  },
  {
   "cell_type": "code",
   "execution_count": 8,
   "metadata": {},
   "outputs": [],
   "source": [
    "# save the data set\n",
    "\n",
    "data.to_csv('titanic.csv', index=False)"
   ]
  },
  {
   "cell_type": "markdown",
   "metadata": {},
   "source": [
    "## Data Exploration\n",
    "\n",
    "### Find numerical and categorical variables"
   ]
  },
  {
   "cell_type": "code",
   "execution_count": 9,
   "metadata": {},
   "outputs": [],
   "source": [
    "target = 'survived'"
   ]
  },
  {
   "cell_type": "code",
   "execution_count": 10,
   "metadata": {},
   "outputs": [
    {
     "name": "stdout",
     "output_type": "stream",
     "text": [
      "Number of numerical variables: 2\n",
      "Number of categorical variables: 7\n"
     ]
    }
   ],
   "source": [
    "vars_num = [var for var in data.columns if data[var].dtype == 'float']\n",
    "\n",
    "vars_cat = [var for var in data.columns if data[var].dtype == 'O']\n",
    "vars_cat += ['pclass', 'sibsp', 'parch']\n",
    "\n",
    "print('Number of numerical variables: {}'.format(len(vars_num)))\n",
    "print('Number of categorical variables: {}'.format(len(vars_cat)))"
   ]
  },
  {
   "cell_type": "markdown",
   "metadata": {},
   "source": [
    "### Find missing values in variables"
   ]
  },
  {
   "cell_type": "code",
   "execution_count": 11,
   "metadata": {},
   "outputs": [
    {
     "data": {
      "text/plain": "age     263\nfare      1\ndtype: int64"
     },
     "execution_count": 11,
     "metadata": {},
     "output_type": "execute_result"
    }
   ],
   "source": [
    "# first in numerical variables\n",
    "data[vars_num].isna().sum()"
   ]
  },
  {
   "cell_type": "code",
   "execution_count": 12,
   "metadata": {},
   "outputs": [
    {
     "data": {
      "text/plain": "sex            0\ncabin       1014\nembarked       2\ntitle          0\npclass         0\nsibsp          0\nparch          0\ndtype: int64"
     },
     "execution_count": 12,
     "metadata": {},
     "output_type": "execute_result"
    }
   ],
   "source": [
    "# now in categorical variables\n",
    "data[vars_cat].isna().sum()"
   ]
  },
  {
   "cell_type": "markdown",
   "metadata": {},
   "source": [
    "### Determine cardinality of categorical variables"
   ]
  },
  {
   "cell_type": "code",
   "execution_count": 13,
   "metadata": {},
   "outputs": [
    {
     "data": {
      "text/plain": "sex           2\ncabin       181\nembarked      3\ntitle         5\npclass        3\nsibsp         7\nparch         8\ndtype: int64"
     },
     "execution_count": 13,
     "metadata": {},
     "output_type": "execute_result"
    }
   ],
   "source": [
    "data[vars_cat].nunique()"
   ]
  },
  {
   "cell_type": "markdown",
   "metadata": {},
   "source": [
    "### Determine the distribution of numerical variables"
   ]
  },
  {
   "cell_type": "code",
   "execution_count": 14,
   "metadata": {},
   "outputs": [
    {
     "data": {
      "text/plain": "<Figure size 1000x500 with 2 Axes>",
      "image/png": "[encoded data removed]"
     },
     "metadata": {},
     "output_type": "display_data"
    }
   ],
   "source": [
    "fig, axes = plt.subplots(ncols=2, figsize=(10, 5))\n",
    "for var, ax in zip(vars_num, axes.ravel()):\n",
    "    data[var].plot(kind='hist', ax=ax)\n",
    "    ax.set_title(f'Distribution of {var}')\n",
    "plt.show()"
   ]
  },
  {
   "cell_type": "markdown",
   "metadata": {},
   "source": [
    "## Separate data into train and test\n",
    "\n",
    "Use the code below for reproducibility. Don't change it."
   ]
  },
  {
   "cell_type": "code",
   "execution_count": 15,
   "metadata": {},
   "outputs": [
    {
     "data": {
      "text/plain": "((1047, 9), (262, 9))"
     },
     "execution_count": 15,
     "metadata": {},
     "output_type": "execute_result"
    }
   ],
   "source": [
    "X_train, X_test, y_train, y_test = train_test_split(\n",
    "    data.drop('survived', axis=1),  # predictors\n",
    "    data['survived'],  # target\n",
    "    test_size=0.2,  # percentage of obs in test set\n",
    "    random_state=0)  # seed to ensure reproducibility\n",
    "\n",
    "X_train.shape, X_test.shape"
   ]
  },
  {
   "cell_type": "markdown",
   "metadata": {},
   "source": [
    "## Feature Engineering\n",
    "\n",
    "### Extract only the letter (and drop the number) from the variable Cabin"
   ]
  },
  {
   "cell_type": "code",
   "execution_count": 16,
   "metadata": {},
   "outputs": [],
   "source": [
    "X_train['cabin'] = X_train['cabin'].str[0]\n",
    "X_test['cabin'] = X_test['cabin'].str[0]"
   ]
  },
  {
   "cell_type": "markdown",
   "metadata": {},
   "source": [
    "### Fill in Missing data in numerical variables:\n",
    "\n",
    "- Add a binary missing indicator\n",
    "- Fill NA in original variable with the median"
   ]
  },
  {
   "cell_type": "code",
   "execution_count": 17,
   "metadata": {},
   "outputs": [],
   "source": [
    "for var in vars_num:\n",
    "    colname = f'{var}_missing'\n",
    "    X_train[colname] = np.where(X_train[var].isna(), 1, 0)\n",
    "    X_test[colname] = np.where(X_test[var].isna(), 1, 0)\n",
    "    X_train[var].fillna(X_train[var].median(), inplace=True)\n",
    "    X_test[var].fillna(X_test[var].median(), inplace=True)"
   ]
  },
  {
   "cell_type": "markdown",
   "metadata": {},
   "source": [
    "### Replace Missing data in categorical variables with the string **Missing**"
   ]
  },
  {
   "cell_type": "code",
   "execution_count": 18,
   "metadata": {},
   "outputs": [
    {
     "name": "stderr",
     "output_type": "stream",
     "text": [
      "/home/kiko/Learning/Deployment_of_ML_models/deploying-machine-learning-models/venv/lib/python3.8/site-packages/pandas/core/frame.py:4459: SettingWithCopyWarning: \n",
      "A value is trying to be set on a copy of a slice from a DataFrame\n",
      "\n",
      "See the caveats in the documentation: https://pandas.pydata.org/pandas-docs/stable/user_guide/indexing.html#returning-a-view-versus-a-copy\n",
      "  return super().fillna(\n"
     ]
    }
   ],
   "source": [
    "X_train[vars_cat].fillna('Missing', inplace=True)\n",
    "X_test[vars_cat].fillna('Missing', inplace=True)"
   ]
  },
  {
   "cell_type": "markdown",
   "metadata": {},
   "source": [
    "### Remove rare labels in categorical variables\n",
    "\n",
    "- remove labels present in less than 5 % of the passengers"
   ]
  },
  {
   "cell_type": "code",
   "execution_count": 19,
   "outputs": [],
   "source": [
    "def rare_categories(X_train, var, threshold=0.05):\n",
    "    tmp = X_train[var].value_counts(normalize=True)\n",
    "    rare = tmp[tmp < threshold].index.tolist()\n",
    "\n",
    "    return rare"
   ],
   "metadata": {
    "collapsed": false
   }
  },
  {
   "cell_type": "code",
   "execution_count": 20,
   "outputs": [
    {
     "name": "stdout",
     "output_type": "stream",
     "text": [
      "male      0.633238\n",
      "female    0.366762\n",
      "Name: sex, dtype: float64\n",
      "male      0.687023\n",
      "female    0.312977\n",
      "Name: sex, dtype: float64\n",
      "C       0.319672\n",
      "B       0.213115\n",
      "D       0.147541\n",
      "E       0.147541\n",
      "A       0.077869\n",
      "F       0.073770\n",
      "Rare    0.020492\n",
      "Name: cabin, dtype: float64\n",
      "C       0.313725\n",
      "B       0.254902\n",
      "D       0.196078\n",
      "E       0.098039\n",
      "F       0.058824\n",
      "A       0.058824\n",
      "Rare    0.019608\n",
      "Name: cabin, dtype: float64\n",
      "S    0.711005\n",
      "C    0.196172\n",
      "Q    0.092823\n",
      "Name: embarked, dtype: float64\n",
      "S    0.652672\n",
      "C    0.248092\n",
      "Q    0.099237\n",
      "Name: embarked, dtype: float64\n",
      "Mr      0.569245\n",
      "Miss    0.200573\n",
      "Mrs     0.159503\n",
      "Rare    0.070678\n",
      "Name: title, dtype: float64\n",
      "Mr      0.618321\n",
      "Miss    0.183206\n",
      "Mrs     0.129771\n",
      "Rare    0.068702\n",
      "Name: title, dtype: float64\n",
      "3    0.546323\n",
      "1    0.249284\n",
      "2    0.204394\n",
      "Name: pclass, dtype: float64\n",
      "3    0.522901\n",
      "2    0.240458\n",
      "1    0.236641\n",
      "Name: pclass, dtype: float64\n",
      "0       0.671442\n",
      "1       0.249284\n",
      "Rare    0.079274\n",
      "Name: sibsp, dtype: float64\n",
      "0       0.717557\n",
      "1       0.221374\n",
      "Rare    0.061069\n",
      "Name: sibsp, dtype: float64\n",
      "0       0.764088\n",
      "1       0.128940\n",
      "2       0.088825\n",
      "Rare    0.018147\n",
      "Name: parch, dtype: float64\n",
      "0       0.770992\n",
      "1       0.133588\n",
      "2       0.076336\n",
      "Rare    0.019084\n",
      "Name: parch, dtype: float64\n"
     ]
    }
   ],
   "source": [
    "for var in vars_cat:\n",
    "    rare = rare_categories(X_train, var)\n",
    "    X_train[var] = np.where(X_train[var].isin(rare), 'Rare', X_train[var])\n",
    "    X_test[var] = np.where(X_test[var].isin(rare), 'Rare', X_test[var])\n",
    "    print(X_train[var].value_counts(normalize=True))\n",
    "    print(X_test[var].value_counts(normalize=True))"
   ],
   "metadata": {
    "collapsed": false
   }
  },
  {
   "cell_type": "markdown",
   "metadata": {},
   "source": [
    "### Perform one hot encoding of categorical variables into k-1 binary variables\n",
    "\n",
    "- k-1, means that if the variable contains 9 different categories, we create 8 different binary variables\n",
    "- Remember to drop the original categorical variable (the one with the strings) after the encoding"
   ]
  },
  {
   "cell_type": "code",
   "execution_count": 23,
   "metadata": {},
   "outputs": [
    {
     "data": {
      "text/plain": "          age      fare  age_missing  fare_missing  sex_male  cabin_B  \\\n1118  25.0000    7.9250            0             0       1.0      0.0   \n44    41.0000  134.5000            0             0       0.0      0.0   \n1072  28.0000    7.7333            1             0       1.0      0.0   \n1130  18.0000    7.7750            0             0       0.0      0.0   \n574   29.0000   21.0000            0             0       1.0      0.0   \n...       ...       ...          ...           ...       ...      ...   \n763    0.1667   20.5750            0             0       0.0      0.0   \n835   28.0000    8.0500            1             0       1.0      0.0   \n1216  28.0000    7.7333            1             0       0.0      0.0   \n559   20.0000   36.7500            0             0       0.0      0.0   \n684   32.0000   15.5000            0             0       0.0      0.0   \n\n      cabin_C  cabin_D  cabin_E  cabin_F  cabin_Rare  cabin_nan  embarked_Q  \\\n1118      0.0      0.0      0.0      0.0         0.0        1.0         0.0   \n44        0.0      0.0      1.0      0.0         0.0        0.0         0.0   \n1072      0.0      0.0      0.0      0.0         0.0        1.0         1.0   \n1130      0.0      0.0      0.0      0.0         0.0        1.0         0.0   \n574       0.0      0.0      0.0      0.0         0.0        1.0         0.0   \n...       ...      ...      ...      ...         ...        ...         ...   \n763       0.0      0.0      0.0      0.0         0.0        1.0         0.0   \n835       0.0      0.0      0.0      0.0         0.0        1.0         0.0   \n1216      0.0      0.0      0.0      0.0         0.0        1.0         1.0   \n559       0.0      0.0      0.0      0.0         0.0        1.0         0.0   \n684       0.0      0.0      0.0      0.0         0.0        1.0         1.0   \n\n      embarked_S  embarked_nan  title_Mr  title_Mrs  title_Rare  pclass_2  \\\n1118         1.0           0.0       1.0        0.0         0.0       0.0   \n44           0.0           0.0       0.0        0.0         0.0       0.0   \n1072         0.0           0.0       1.0        0.0         0.0       0.0   \n1130         1.0           0.0       0.0        0.0         0.0       0.0   \n574          1.0           0.0       1.0        0.0         0.0       1.0   \n...          ...           ...       ...        ...         ...       ...   \n763          1.0           0.0       0.0        0.0         0.0       0.0   \n835          1.0           0.0       1.0        0.0         0.0       0.0   \n1216         0.0           0.0       0.0        0.0         0.0       0.0   \n559          1.0           0.0       0.0        0.0         0.0       1.0   \n684          0.0           0.0       0.0        1.0         0.0       0.0   \n\n      pclass_3  sibsp_1  sibsp_Rare  parch_1  parch_2  parch_Rare  \n1118       1.0      0.0         0.0      0.0      0.0         0.0  \n44         0.0      0.0         0.0      0.0      0.0         0.0  \n1072       1.0      0.0         0.0      0.0      0.0         0.0  \n1130       1.0      0.0         0.0      0.0      0.0         0.0  \n574        0.0      1.0         0.0      0.0      0.0         0.0  \n...        ...      ...         ...      ...      ...         ...  \n763        1.0      1.0         0.0      0.0      1.0         0.0  \n835        1.0      0.0         0.0      0.0      0.0         0.0  \n1216       1.0      0.0         0.0      0.0      0.0         0.0  \n559        0.0      0.0         0.0      0.0      0.0         0.0  \n684        1.0      1.0         0.0      1.0      0.0         0.0  \n\n[1047 rows x 25 columns]",
      "text/html": "<div>\n<style scoped>\n    .dataframe tbody tr th:only-of-type {\n        vertical-align: middle;\n    }\n\n    .dataframe tbody tr th {\n        vertical-align: top;\n    }\n\n    .dataframe thead th {\n        text-align: right;\n    }\n</style>\n<table border=\"1\" class=\"dataframe\">\n  <thead>\n    <tr style=\"text-align: right;\">\n      <th></th>\n      <th>age</th>\n      <th>fare</th>\n      <th>age_missing</th>\n      <th>fare_missing</th>\n      <th>sex_male</th>\n      <th>cabin_B</th>\n      <th>cabin_C</th>\n      <th>cabin_D</th>\n      <th>cabin_E</th>\n      <th>cabin_F</th>\n      <th>cabin_Rare</th>\n      <th>cabin_nan</th>\n      <th>embarked_Q</th>\n      <th>embarked_S</th>\n      <th>embarked_nan</th>\n      <th>title_Mr</th>\n      <th>title_Mrs</th>\n      <th>title_Rare</th>\n      <th>pclass_2</th>\n      <th>pclass_3</th>\n      <th>sibsp_1</th>\n      <th>sibsp_Rare</th>\n      <th>parch_1</th>\n      <th>parch_2</th>\n      <th>parch_Rare</th>\n    </tr>\n  </thead>\n  <tbody>\n    <tr>\n      <th>1118</th>\n      <td>25.0000</td>\n      <td>7.9250</td>\n      <td>0</td>\n      <td>0</td>\n      <td>1.0</td>\n      <td>0.0</td>\n      <td>0.0</td>\n      <td>0.0</td>\n      <td>0.0</td>\n      <td>0.0</td>\n      <td>0.0</td>\n      <td>1.0</td>\n      <td>0.0</td>\n      <td>1.0</td>\n      <td>0.0</td>\n      <td>1.0</td>\n      <td>0.0</td>\n      <td>0.0</td>\n      <td>0.0</td>\n      <td>1.0</td>\n      <td>0.0</td>\n      <td>0.0</td>\n      <td>0.0</td>\n      <td>0.0</td>\n      <td>0.0</td>\n    </tr>\n    <tr>\n      <th>44</th>\n      <td>41.0000</td>\n      <td>134.5000</td>\n      <td>0</td>\n      <td>0</td>\n      <td>0.0</td>\n      <td>0.0</td>\n      <td>0.0</td>\n      <td>0.0</td>\n      <td>1.0</td>\n      <td>0.0</td>\n      <td>0.0</td>\n      <td>0.0</td>\n      <td>0.0</td>\n      <td>0.0</td>\n      <td>0.0</td>\n      <td>0.0</td>\n      <td>0.0</td>\n      <td>0.0</td>\n      <td>0.0</td>\n      <td>0.0</td>\n      <td>0.0</td>\n      <td>0.0</td>\n      <td>0.0</td>\n      <td>0.0</td>\n      <td>0.0</td>\n    </tr>\n    <tr>\n      <th>1072</th>\n      <td>28.0000</td>\n      <td>7.7333</td>\n      <td>1</td>\n      <td>0</td>\n      <td>1.0</td>\n      <td>0.0</td>\n      <td>0.0</td>\n      <td>0.0</td>\n      <td>0.0</td>\n      <td>0.0</td>\n      <td>0.0</td>\n      <td>1.0</td>\n      <td>1.0</td>\n      <td>0.0</td>\n      <td>0.0</td>\n      <td>1.0</td>\n      <td>0.0</td>\n      <td>0.0</td>\n      <td>0.0</td>\n      <td>1.0</td>\n      <td>0.0</td>\n      <td>0.0</td>\n      <td>0.0</td>\n      <td>0.0</td>\n      <td>0.0</td>\n    </tr>\n    <tr>\n      <th>1130</th>\n      <td>18.0000</td>\n      <td>7.7750</td>\n      <td>0</td>\n      <td>0</td>\n      <td>0.0</td>\n      <td>0.0</td>\n      <td>0.0</td>\n      <td>0.0</td>\n      <td>0.0</td>\n      <td>0.0</td>\n      <td>0.0</td>\n      <td>1.0</td>\n      <td>0.0</td>\n      <td>1.0</td>\n      <td>0.0</td>\n      <td>0.0</td>\n      <td>0.0</td>\n      <td>0.0</td>\n      <td>0.0</td>\n      <td>1.0</td>\n      <td>0.0</td>\n      <td>0.0</td>\n      <td>0.0</td>\n      <td>0.0</td>\n      <td>0.0</td>\n    </tr>\n    <tr>\n      <th>574</th>\n      <td>29.0000</td>\n      <td>21.0000</td>\n      <td>0</td>\n      <td>0</td>\n      <td>1.0</td>\n      <td>0.0</td>\n      <td>0.0</td>\n      <td>0.0</td>\n      <td>0.0</td>\n      <td>0.0</td>\n      <td>0.0</td>\n      <td>1.0</td>\n      <td>0.0</td>\n      <td>1.0</td>\n      <td>0.0</td>\n      <td>1.0</td>\n      <td>0.0</td>\n      <td>0.0</td>\n      <td>1.0</td>\n      <td>0.0</td>\n      <td>1.0</td>\n      <td>0.0</td>\n      <td>0.0</td>\n      <td>0.0</td>\n      <td>0.0</td>\n    </tr>\n    <tr>\n      <th>...</th>\n      <td>...</td>\n      <td>...</td>\n      <td>...</td>\n      <td>...</td>\n      <td>...</td>\n      <td>...</td>\n      <td>...</td>\n      <td>...</td>\n      <td>...</td>\n      <td>...</td>\n      <td>...</td>\n      <td>...</td>\n      <td>...</td>\n      <td>...</td>\n      <td>...</td>\n      <td>...</td>\n      <td>...</td>\n      <td>...</td>\n      <td>...</td>\n      <td>...</td>\n      <td>...</td>\n      <td>...</td>\n      <td>...</td>\n      <td>...</td>\n      <td>...</td>\n    </tr>\n    <tr>\n      <th>763</th>\n      <td>0.1667</td>\n      <td>20.5750</td>\n      <td>0</td>\n      <td>0</td>\n      <td>0.0</td>\n      <td>0.0</td>\n      <td>0.0</td>\n      <td>0.0</td>\n      <td>0.0</td>\n      <td>0.0</td>\n      <td>0.0</td>\n      <td>1.0</td>\n      <td>0.0</td>\n      <td>1.0</td>\n      <td>0.0</td>\n      <td>0.0</td>\n      <td>0.0</td>\n      <td>0.0</td>\n      <td>0.0</td>\n      <td>1.0</td>\n      <td>1.0</td>\n      <td>0.0</td>\n      <td>0.0</td>\n      <td>1.0</td>\n      <td>0.0</td>\n    </tr>\n    <tr>\n      <th>835</th>\n      <td>28.0000</td>\n      <td>8.0500</td>\n      <td>1</td>\n      <td>0</td>\n      <td>1.0</td>\n      <td>0.0</td>\n      <td>0.0</td>\n      <td>0.0</td>\n      <td>0.0</td>\n      <td>0.0</td>\n      <td>0.0</td>\n      <td>1.0</td>\n      <td>0.0</td>\n      <td>1.0</td>\n      <td>0.0</td>\n      <td>1.0</td>\n      <td>0.0</td>\n      <td>0.0</td>\n      <td>0.0</td>\n      <td>1.0</td>\n      <td>0.0</td>\n      <td>0.0</td>\n      <td>0.0</td>\n      <td>0.0</td>\n      <td>0.0</td>\n    </tr>\n    <tr>\n      <th>1216</th>\n      <td>28.0000</td>\n      <td>7.7333</td>\n      <td>1</td>\n      <td>0</td>\n      <td>0.0</td>\n      <td>0.0</td>\n      <td>0.0</td>\n      <td>0.0</td>\n      <td>0.0</td>\n      <td>0.0</td>\n      <td>0.0</td>\n      <td>1.0</td>\n      <td>1.0</td>\n      <td>0.0</td>\n      <td>0.0</td>\n      <td>0.0</td>\n      <td>0.0</td>\n      <td>0.0</td>\n      <td>0.0</td>\n      <td>1.0</td>\n      <td>0.0</td>\n      <td>0.0</td>\n      <td>0.0</td>\n      <td>0.0</td>\n      <td>0.0</td>\n    </tr>\n    <tr>\n      <th>559</th>\n      <td>20.0000</td>\n      <td>36.7500</td>\n      <td>0</td>\n      <td>0</td>\n      <td>0.0</td>\n      <td>0.0</td>\n      <td>0.0</td>\n      <td>0.0</td>\n      <td>0.0</td>\n      <td>0.0</td>\n      <td>0.0</td>\n      <td>1.0</td>\n      <td>0.0</td>\n      <td>1.0</td>\n      <td>0.0</td>\n      <td>0.0</td>\n      <td>0.0</td>\n      <td>0.0</td>\n      <td>1.0</td>\n      <td>0.0</td>\n      <td>0.0</td>\n      <td>0.0</td>\n      <td>0.0</td>\n      <td>0.0</td>\n      <td>0.0</td>\n    </tr>\n    <tr>\n      <th>684</th>\n      <td>32.0000</td>\n      <td>15.5000</td>\n      <td>0</td>\n      <td>0</td>\n      <td>0.0</td>\n      <td>0.0</td>\n      <td>0.0</td>\n      <td>0.0</td>\n      <td>0.0</td>\n      <td>0.0</td>\n      <td>0.0</td>\n      <td>1.0</td>\n      <td>1.0</td>\n      <td>0.0</td>\n      <td>0.0</td>\n      <td>0.0</td>\n      <td>1.0</td>\n      <td>0.0</td>\n      <td>0.0</td>\n      <td>1.0</td>\n      <td>1.0</td>\n      <td>0.0</td>\n      <td>1.0</td>\n      <td>0.0</td>\n      <td>0.0</td>\n    </tr>\n  </tbody>\n</table>\n<p>1047 rows × 25 columns</p>\n</div>"
     },
     "execution_count": 23,
     "metadata": {},
     "output_type": "execute_result"
    }
   ],
   "source": [
    "enc = OneHotEncoder(drop='first').fit(X_train[vars_cat])\n",
    "enc_cols = enc.get_feature_names(vars_cat)\n",
    "X_train[enc_cols] = enc.transform(X_train[vars_cat]).todense()\n",
    "X_test[enc_cols] = enc.transform(X_test[vars_cat]).todense()\n",
    "X_train.drop(vars_cat, inplace=True, axis=1)\n",
    "X_test.drop(vars_cat, inplace=True, axis=1)\n",
    "X_train"
   ]
  },
  {
   "cell_type": "markdown",
   "metadata": {},
   "source": [
    "### Scale the variables\n",
    "\n",
    "- Use the standard scaler from Scikit-learn"
   ]
  },
  {
   "cell_type": "code",
   "execution_count": 24,
   "metadata": {},
   "outputs": [],
   "source": [
    "scaler = StandardScaler()\n",
    "X_train = scaler.fit_transform(X_train)\n",
    "X_test = scaler.transform(X_test)"
   ]
  },
  {
   "cell_type": "markdown",
   "metadata": {},
   "source": [
    "## Train the Logistic Regression model\n",
    "\n",
    "- Set the regularization parameter to 0.0005\n",
    "- Set the seed to 0"
   ]
  },
  {
   "cell_type": "code",
   "execution_count": 25,
   "metadata": {},
   "outputs": [
    {
     "data": {
      "text/plain": "LogisticRegression(C=0.0005, random_state=0)"
     },
     "execution_count": 25,
     "metadata": {},
     "output_type": "execute_result"
    }
   ],
   "source": [
    "clf = LogisticRegression(random_state=0, C=0.0005)\n",
    "clf.fit(X_train, y_train)"
   ]
  },
  {
   "cell_type": "markdown",
   "metadata": {},
   "source": [
    "## Make predictions and evaluate model performance\n",
    "\n",
    "Determine:\n",
    "- roc-auc\n",
    "- accuracy\n",
    "\n",
    "**Important, remember that to determine the accuracy, you need the outcome 0, 1, referring to survived or not. But to determine the roc-auc you need the probability of survival.**"
   ]
  },
  {
   "cell_type": "code",
   "execution_count": 26,
   "metadata": {},
   "outputs": [],
   "source": [
    "y_pred = clf.predict(X_test)\n",
    "y_pred_proba = clf.predict_proba(X_test)"
   ]
  },
  {
   "cell_type": "code",
   "execution_count": 27,
   "outputs": [
    {
     "data": {
      "text/plain": "array([0.3006944 , 0.45115844, 0.34484829, 0.29142343, 0.33685076,\n       0.45548643, 0.38460769, 0.42156029, 0.3290039 , 0.2903624 ,\n       0.33614766, 0.32006663, 0.41929624, 0.39760498, 0.54302113,\n       0.33322547, 0.50396134, 0.37063901, 0.48094844, 0.30139241,\n       0.30273757, 0.34694773, 0.30203191, 0.52940837, 0.40141188,\n       0.47101826, 0.33393531, 0.31564215, 0.30530353, 0.39783349,\n       0.43478395, 0.53351163, 0.47958268, 0.36806433, 0.55116652,\n       0.29027322, 0.30136626, 0.33210991, 0.30446322, 0.30260396,\n       0.2902193 , 0.3317437 , 0.421632  , 0.41976682, 0.40820516,\n       0.36142111, 0.31545748, 0.57166741, 0.38900011, 0.29046197,\n       0.43168917, 0.29032507, 0.30257776, 0.42691346, 0.30233449,\n       0.29035203, 0.55142779, 0.4484678 , 0.41236761, 0.44879291,\n       0.30339004, 0.44069087, 0.39049399, 0.40125844, 0.39155848,\n       0.46246088, 0.33367294, 0.30446322, 0.30298717, 0.41301198,\n       0.48095806, 0.3009541 , 0.37475416, 0.29892696, 0.39790308,\n       0.51535676, 0.33407737, 0.55604203, 0.41147023, 0.30398147,\n       0.3890387 , 0.400104  , 0.33223297, 0.38546492, 0.38336328,\n       0.44495399, 0.32704577, 0.29937811, 0.3184651 , 0.29845583,\n       0.30446322, 0.30446322, 0.30028724, 0.33011704, 0.29986276,\n       0.41214823, 0.30415359, 0.41315811, 0.34505819, 0.55083724,\n       0.34448786, 0.33001747, 0.42045485, 0.45125902, 0.30204206,\n       0.34495492, 0.47185663, 0.30410216, 0.30112355, 0.32858844,\n       0.3473042 , 0.38626631, 0.34545737, 0.32540097, 0.39712344,\n       0.33077167, 0.34560178, 0.43589832, 0.3344391 , 0.45959604,\n       0.4062513 , 0.36172547, 0.3313136 , 0.36785909, 0.30157934,\n       0.30398147, 0.29032644, 0.30201728, 0.45067917, 0.3489422 ,\n       0.29032644, 0.3313136 , 0.32996999, 0.40992305, 0.34886496,\n       0.30284736, 0.34230315, 0.39787977, 0.30256879, 0.39797784,\n       0.34502429, 0.58754771, 0.30307362, 0.30327824, 0.34164402,\n       0.35802756, 0.4184479 , 0.29032644, 0.47553563, 0.31617669,\n       0.40195454, 0.41971348, 0.33350932, 0.44216116, 0.31647043,\n       0.30446393, 0.52938467, 0.55341552, 0.31621549, 0.34558846,\n       0.31511682, 0.38457539, 0.39561565, 0.42938753, 0.31641238,\n       0.48724472, 0.30398147, 0.30191021, 0.30056507, 0.30253658,\n       0.33476663, 0.38929011, 0.39790871, 0.30285044, 0.4966685 ,\n       0.39627476, 0.30314332, 0.5348271 , 0.43356734, 0.5766052 ,\n       0.53840488, 0.30398147, 0.4430354 , 0.33714535, 0.47292809,\n       0.41191989, 0.49999615, 0.30446393, 0.33027397, 0.30388193,\n       0.39483755, 0.43965817, 0.49468367, 0.37773045, 0.38637298,\n       0.47978758, 0.36125194, 0.49458486, 0.30293852, 0.34582125,\n       0.32817117, 0.29035203, 0.30287357, 0.52638979, 0.44900764,\n       0.30323145, 0.34881765, 0.34839609, 0.30352194, 0.30125796,\n       0.397928  , 0.35895354, 0.33381494, 0.29897759, 0.42066104,\n       0.32970919, 0.34582125, 0.29837562, 0.36238746, 0.29018613,\n       0.5355138 , 0.45219527, 0.50846295, 0.52751142, 0.51263161,\n       0.31292624, 0.41147023, 0.46665342, 0.40776676, 0.41400333,\n       0.50818638, 0.38523142, 0.30233331, 0.39661316, 0.30334324,\n       0.32884727, 0.39789744, 0.32673072, 0.30293981, 0.38481024,\n       0.31621622, 0.38546135, 0.29152322, 0.32074161, 0.31697895,\n       0.37522174, 0.3699003 , 0.32605929, 0.48821973, 0.37378054,\n       0.30166022, 0.30172867, 0.39801478, 0.30190083, 0.51828192,\n       0.30446322, 0.46168369, 0.30287357, 0.29032644, 0.33282156,\n       0.33338902, 0.29035203])"
     },
     "execution_count": 27,
     "metadata": {},
     "output_type": "execute_result"
    }
   ],
   "source": [
    "y_pred_proba[:, 1]"
   ],
   "metadata": {
    "collapsed": false
   }
  },
  {
   "cell_type": "code",
   "execution_count": 28,
   "outputs": [
    {
     "data": {
      "text/plain": "0.7061068702290076"
     },
     "execution_count": 28,
     "metadata": {},
     "output_type": "execute_result"
    }
   ],
   "source": [
    "accuracy_score(y_test, y_pred)"
   ],
   "metadata": {
    "collapsed": false
   }
  },
  {
   "cell_type": "code",
   "execution_count": 29,
   "outputs": [
    {
     "data": {
      "text/plain": "0.8366358024691358"
     },
     "execution_count": 29,
     "metadata": {},
     "output_type": "execute_result"
    }
   ],
   "source": [
    "roc_auc_score(y_test, y_pred_proba[:, 1])"
   ],
   "metadata": {
    "collapsed": false
   }
  },
  {
   "cell_type": "markdown",
   "metadata": {},
   "source": [
    "That's it! Well done\n",
    "\n",
    "**Keep this code safe, as we will use this notebook later on, to build production code, in our next assignement!!**"
   ]
  },
  {
   "cell_type": "code",
   "execution_count": 30,
   "metadata": {},
   "outputs": [
    {
     "data": {
      "text/plain": "['logistic_regression.joblib']"
     },
     "execution_count": 30,
     "metadata": {},
     "output_type": "execute_result"
    }
   ],
   "source": [
    "joblib.dump(clf, 'logistic_regression.joblib')"
   ]
  }
 ],
 "metadata": {
  "kernelspec": {
   "name": "python3",
   "language": "python",
   "display_name": "Python 3 (ipykernel)"
  },
  "language_info": {
   "codemirror_mode": {
    "name": "ipython",
    "version": 3
   },
   "file_extension": ".py",
   "mimetype": "text/x-python",
   "name": "python",
   "nbconvert_exporter": "python",
   "pygments_lexer": "ipython3",
   "version": "3.8.2"
  },
  "toc": {
   "base_numbering": 1,
   "nav_menu": {},
   "number_sections": true,
   "sideBar": true,
   "skip_h1_title": false,
   "title_cell": "Table of Contents",
   "title_sidebar": "Contents",
   "toc_cell": false,
   "toc_position": {},
   "toc_section_display": true,
   "toc_window_display": true
  }
 },
 "nbformat": 4,
 "nbformat_minor": 2
}
